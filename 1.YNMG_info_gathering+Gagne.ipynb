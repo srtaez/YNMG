{
 "metadata": {
  "name": "",
  "signature": "sha256:37a3348c6102a4bea0ab7909a7cc899822c4d17be11509476a1bb14ced7b655f"
 },
 "nbformat": 3,
 "nbformat_minor": 0,
 "worksheets": [
  {
   "cells": [
    {
     "cell_type": "code",
     "collapsed": false,
     "input": [
      "import numpy as np\n",
      "import pylab as plt\n",
      "import scipy\n",
      "import scipy.interpolate\n",
      "import os\n",
      "import sys\n",
      "import subprocess\n",
      "from subprocess import call \n",
      "\n",
      "mystilts='/Applications/Topcat/bin/stilts -Xmx8192M -disk '\n",
      "tolerance = '3 '\n",
      "myofmt = 'csv '\n",
      "\n",
      "#stilts cdsmatch Distances to 1.33 billion stars in Gaia DR2 (Bailer-Jones+, 2018)\n",
      "infile = 'YNMG_8402.txt'\n",
      "outfile = 'YNMG_8402_TGAS.csv ' #GAIA DR2\n",
      "run1 = mystilts + 'cdsskymatch ifmt=ascii cdstable=I/347/gaia2dis find=each in=' + infile + ' ra=RA dec=DEC radius=' + tolerance + 'ocmd=\\'keepcols \\\"ID_in RA Dec YNMG id_cds rest b_rest_cds B_rest_cdsa\\\"\\' out=' + outfile + 'ofmt=' + myofmt\n",
      "subprocess.call(run1, shell=True)"
     ],
     "language": "python",
     "metadata": {},
     "outputs": [
      {
       "metadata": {},
       "output_type": "pyout",
       "prompt_number": 4,
       "text": [
        "1"
       ]
      }
     ],
     "prompt_number": 4
    },
    {
     "cell_type": "code",
     "collapsed": false,
     "input": [
      "#stilts cdskymatch con 2MASS\n",
      "\n",
      "#infile = outfile\n",
      "infile = 'YNMG_8402_TGAS.csv '\n",
      "outfile = 'YNMG_8402_2MASS.csv '\n",
      "run3 = mystilts + 'cdsskymatch ifmt='+ myofmt + 'cdstable=II/246/out find=each in=' + infile + 'ra=RA dec=DEC radius=' + tolerance + 'ocmd=\\'keepcols \\\"ID_in RA DEC YNMG id_cds rest b_rest_cds B_rest_cdsa 2MASS Jmag Hmag Kmag e_Jmag e_Hmag e_Kmag Qfl\\\"\\' out=' + outfile + ' ofmt=' + myofmt\n",
      "subprocess.call(run3, shell=True)\n",
      "#print run3"
     ],
     "language": "python",
     "metadata": {},
     "outputs": [
      {
       "metadata": {},
       "output_type": "pyout",
       "prompt_number": 28,
       "text": [
        "0"
       ]
      }
     ],
     "prompt_number": 28
    },
    {
     "cell_type": "code",
     "collapsed": false,
     "input": [
      "#stilts cdskymatch con SIMBAD\n",
      "infile = outfile\n",
      "outfile = 'YNMG_8402_SIMBAD.csv '\n",
      "run4 = mystilts + 'cdsskymatch ifmt='+ myofmt + 'cdstable=SIMBAD find=each in=' + infile + 'ra=RA dec=DEC radius=' + tolerance + 'ocmd=\\'keepcols \\\"ID_in RA_in DEC_in YNMG id_cds rest b_rest_cds B_rest_cdsa 2MASS Jmag Hmag Kmag e_Jmag e_Hmag e_Kmag Qfl radvel B V R_cds J H K u g r_cdsa i z angDist sp_type\\\"\\' out=' + outfile + ' ofmt=' + myofmt\n",
      "subprocess.call(run4, shell=True)\n",
      "#print run4"
     ],
     "language": "python",
     "metadata": {},
     "outputs": [
      {
       "metadata": {},
       "output_type": "pyout",
       "prompt_number": 5,
       "text": [
        "1"
       ]
      }
     ],
     "prompt_number": 5
    },
    {
     "cell_type": "code",
     "collapsed": false,
     "input": [
      "# Cambio de los tipos espectrales a cantidades numericas\n",
      "os.system(\"awk -F, ' $30!=\\\"\\\" { print $0\\\",\\\"substr($30,1,1)\\\",\\\"substr($30,1,2)}' YNMG_8402_SIMBAD.csv > TTT.2.txt\")\n",
      "os.system(\"awk -F, ' $30==\\\"\\\" { print $0,\\\",NA,NA\\\"}' YNMG_8402_SIMBAD.csv > TTT.3.txt\")\n",
      "os.system(\"cat TTT.2.txt TTT.3.txt > TTT.4.txt\")\n",
      "\n",
      "# Special cases\n",
      "os.system(\"sed 's/,M,MV/,0/g'     TTT.4.txt > TTT.5.txt\")\n",
      "os.system(\"sed 's/,M,Me/,0/g'     TTT.5.txt > TTT.6.txt\")\n",
      "os.system(\"sed 's/,G,G\\//,0/g'    TTT.6.txt > TTT.7.txt\")\n",
      "os.system(\"sed 's/,A,Ap/,0/g'     TTT.7.txt > TTT.8.txt\")\n",
      "os.system(\"sed 's/,M,M,M/,M,0/g'  TTT.8.txt > TTT.9.txt\")\n",
      "os.system(\"sed 's/,M,M,M/,M,0/g'  TTT.8.txt > TTT.9.txt\")\n",
      "os.system(\"sed 's/,M,M,M/,M,0/g'  TTT.8.txt > TTT.9.txt\")\n",
      "\n",
      "# From character to numbers\n",
      "os.system(\"sed 's/O,O//'  TTT.9.txt  | sed 's/B,B/1/' | sed 's/A,A/2/' > TTT.10.txt\")\n",
      "os.system(\"sed 's/F,F/3/' TTT.10.txt | sed 's/G,G/4/' | sed 's/K,K/5/' > TTT.11.txt\")\n",
      "os.system(\"sed 's/M,M/6/' TTT.11.txt | sed 's/L,L/7/' | sed 's/T,T/8/' > TTT.12.txt\")\n",
      "os.system(\"sed 's/Y,Y/9/' TTT.12.txt | sed 's/NA,NA/0/' > TTT.13.txt\")\n",
      "\n",
      "# Header\n",
      "os.system(\"sed -i aux 's/,s,sp/,spt_code/' TTT.13.txt\")\n",
      "os.system(\"rm -f TTT.13.txtaux\")\n",
      "\n",
      "os.system('mv -f TTT.13.txt YNMG_8402_SIMBAD_XX.csv')\n",
      "#os.system('rm -f TTT.?.txt')\n",
      "#os.system('rm -f TTT.??.txt')"
     ],
     "language": "python",
     "metadata": {},
     "outputs": [
      {
       "metadata": {},
       "output_type": "pyout",
       "prompt_number": 6,
       "text": [
        "0"
       ]
      }
     ],
     "prompt_number": 6
    },
    {
     "cell_type": "code",
     "collapsed": false,
     "input": [
      "#stilts tpipe addskycoords l, b\n",
      "infile = 'YNMG_8402_SIMBAD_XX.csv '\n",
      "print outfile\n",
      "outfile = 'YNMG_8402_CDS.csv_II '\n",
      "run5= mystilts + 'tpipe in=' + infile + 'ifmt='+ myofmt + 'cmd=\\'addskycoords -epoch 2000 -inunit deg -outunit deg fk5 galactic RA_in DEC_in l b\\' out=' + outfile  + ' ofmt=' + myofmt\n",
      "subprocess.call(run5, shell=True)\n",
      "#print run5"
     ],
     "language": "python",
     "metadata": {},
     "outputs": [
      {
       "output_type": "stream",
       "stream": "stdout",
       "text": [
        "YNMG_8402_CDS.csv \n"
       ]
      },
      {
       "metadata": {},
       "output_type": "pyout",
       "prompt_number": 8,
       "text": [
        "0"
       ]
      }
     ],
     "prompt_number": 8
    },
    {
     "cell_type": "code",
     "collapsed": false,
     "input": [
      "infile = outfile\n",
      "run6='sed -i aux \\\"s/ID/# ID/g\\\" ' + infile\n",
      "print run6\n",
      "subprocess.call(run6, shell=True)"
     ],
     "language": "python",
     "metadata": {},
     "outputs": [
      {
       "output_type": "stream",
       "stream": "stdout",
       "text": [
        "sed -i aux \"s/ID/# ID/g\" YNMG_8402_CDS.csv_II \n"
       ]
      },
      {
       "metadata": {},
       "output_type": "pyout",
       "prompt_number": 9,
       "text": [
        "0"
       ]
      }
     ],
     "prompt_number": 9
    },
    {
     "cell_type": "code",
     "collapsed": false,
     "input": [
      "run8='rm -f YNMG_8402_CDS.csv_IIaux'\n",
      "subprocess.call(run8, shell=True)"
     ],
     "language": "python",
     "metadata": {},
     "outputs": [
      {
       "metadata": {},
       "output_type": "pyout",
       "prompt_number": 10,
       "text": [
        "0"
       ]
      }
     ],
     "prompt_number": 10
    }
   ],
   "metadata": {}
  }
 ]
}