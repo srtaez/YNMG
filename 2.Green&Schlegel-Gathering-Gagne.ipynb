{
 "metadata": {
  "name": "",
  "signature": "sha256:e0292d895056b146d62ba6ffba7c2db59c6049ec614eec1f525a9eb9ea1bbcd5"
 },
 "nbformat": 3,
 "nbformat_minor": 0,
 "worksheets": [
  {
   "cells": [
    {
     "cell_type": "code",
     "collapsed": false,
     "input": [
      "#!/usr/bin/env python\n",
      "import numpy as np\n",
      "import matplotlib.pyplot as plt\n",
      "import scipy\n",
      "import scipy.interpolate\n",
      "from scipy.interpolate import UnivariateSpline\n",
      "import os, csv\n",
      "import json, requests\n",
      "import my_io\n",
      "import sys\n",
      "import subprocess\n",
      "from subprocess import call "
     ],
     "language": "python",
     "metadata": {},
     "outputs": [],
     "prompt_number": 18
    },
    {
     "cell_type": "code",
     "collapsed": false,
     "input": [
      "#os.system('rm -f TTT.?.txt')\n",
      "#os.system('rm -f TTT.??.txt')\n",
      "\n",
      "# Cambio de los tipos espectrales a cantidades numericas\n",
      "#os.system(\"awk -F, ' $34!=\\\"\\\" { print $0\\\",\\\"substr($34,1,1)\\\",\\\"substr($34,1,2)}' YNMG_8402_SIMBAD.csv+GAGNE > TTT.2.txt\")\n",
      "#os.system(\"awk -F, ' $34==\\\"\\\" { print $0,\\\",NA,NA\\\"}' YNMG_8402_SIMBAD.csv+GAGNE > TTT.3.txt\")\n",
      "#os.system(\"cat TTT.2.txt TTT.3.txt > TTT.4.txt\")\n",
      "\n",
      "# Special cases\n",
      "#os.system(\"sed 's/,M,MV/,0/g'     TTT.4.txt > TTT.5.txt\")\n",
      "#os.system(\"sed 's/,M,Me/,0/g'     TTT.5.txt > TTT.6.txt\")\n",
      "#os.system(\"sed 's/,G,G\\//,0/g'    TTT.6.txt > TTT.7.txt\")\n",
      "#os.system(\"sed 's/,A,Ap/,0/g'     TTT.7.txt > TTT.8.txt\")\n",
      "#os.system(\"sed 's/,M,M,M/,M,0/g'  TTT.8.txt > TTT.9.txt\")\n",
      "\n",
      "# From character to numbers\n",
      "os.system(\"sed 's/O,O//'  TTT.4.txt  | sed 's/B,B/1/' | sed 's/A,A/2/' > TTT.10.txt\")\n",
      "os.system(\"sed 's/F,F/3/' TTT.10.txt | sed 's/G,G/4/' | sed 's/K,K/5/' > TTT.11.txt\")\n",
      "os.system(\"sed 's/M,M/6/' TTT.11.txt | sed 's/L,L/7/' | sed 's/T,T/8/' > TTT.12.txt\")\n",
      "os.system(\"sed 's/Y,Y/9/' TTT.12.txt | sed 's/NA,NA/0/' > TTT.13.txt\")\n",
      "\n",
      "# Header\n",
      "#os.system(\"sed -i aux 's/,s,sp/,spt_code/' TTT.13.txt\")\n",
      "#os.system(\"rm -f TTT.13.txtaux\")\n",
      "\n",
      "#os.system('mv -f TTT.13.txt YNMG_8402_SIMBAD.csv+GAGNE_LL')\n",
      "#os.system('rm -f TTT.?.txt')\n",
      "#os.system('rm -f TTT.??.txt')"
     ],
     "language": "python",
     "metadata": {},
     "outputs": [
      {
       "metadata": {},
       "output_type": "pyout",
       "prompt_number": 2,
       "text": [
        "0"
       ]
      }
     ],
     "prompt_number": 2
    },
    {
     "cell_type": "code",
     "collapsed": false,
     "input": [
      "#The following function will call the Argonaut server and return the \n",
      "#line-of-sight reddening for any coordinates, or set of coordinates, \n",
      "#on the sky http://argonaut.skymaps.info/usage\n",
      "\n",
      "def query(lon, lat, coordsys='gal', mode='full'):\n",
      "    '''\n",
      "    Send a line-of-sight reddening query to the Argonaut web server.\n",
      "    \n",
      "    Inputs:\n",
      "      lon, lat: longitude and latitude, in degrees.\n",
      "      coordsys: 'gal' for Galactic, 'equ' for Equatorial (J2000).\n",
      "      mode: 'full', 'lite' or 'sfd'\n",
      "    \n",
      "    In 'full' mode, outputs a dictionary containing, among other things:\n",
      "      'distmod':    The distance moduli that define the distance bins.\n",
      "      'best':       The best-fit (maximum proability density)\n",
      "                    line-of-sight reddening, in units of SFD-equivalent\n",
      "                    E(B-V), to each distance modulus in 'distmod.' See\n",
      "                    Schlafly & Finkbeiner (2011) for a definition of the\n",
      "                    reddening vector (use R_V = 3.1).\n",
      "      'samples':    Samples of the line-of-sight reddening, drawn from\n",
      "                    the probability density on reddening profiles.\n",
      "      'success':    1 if the query succeeded, and 0 otherwise.\n",
      "      'converged':  1 if the line-of-sight reddening fit converged, and\n",
      "                    0 otherwise.\n",
      "      'n_stars':    # of stars used to fit the line-of-sight reddening.\n",
      "      'DM_reliable_min':  Minimum reliable distance modulus in pixel.\n",
      "      'DM_reliable_max':  Maximum reliable distance modulus in pixel.\n",
      "    \n",
      "    Less information is returned in 'lite' mode, while in 'sfd' mode,\n",
      "    the Schlegel, Finkbeiner & Davis (1998) E(B-V) is returned.\n",
      "    '''\n",
      "    \n",
      "    url = 'http://argonaut.skymaps.info/gal-lb-query-light'\n",
      "    \n",
      "    payload = {'mode': mode}\n",
      "    \n",
      "    if coordsys.lower() in ['gal', 'g']:\n",
      "        payload['l'] = lon\n",
      "        payload['b'] = lat\n",
      "    elif coordsys.lower() in ['equ', 'e']:\n",
      "        payload['ra'] = lon\n",
      "        payload['dec'] = lat\n",
      "    else:\n",
      "        raise ValueError(\"coordsys '{0}' not understood.\".format(coordsys))\n",
      "    \n",
      "    headers = {'content-type': 'application/json'}\n",
      "    \n",
      "    r = requests.post(url, data=json.dumps(payload), headers=headers)\n",
      "    \n",
      "    try:\n",
      "        r.raise_for_status()\n",
      "    except requests.exceptions.HTTPError as e:\n",
      "        print('Response received from Argonaut:')\n",
      "        print(r.text)\n",
      "        raise e\n",
      "    \n",
      "    return json.loads(r.text)\n"
     ],
     "language": "python",
     "metadata": {},
     "outputs": [],
     "prompt_number": 20
    },
    {
     "cell_type": "code",
     "collapsed": false,
     "input": [
      "#Ley de extincion\n",
      "Rv=3.1"
     ],
     "language": "python",
     "metadata": {},
     "outputs": [],
     "prompt_number": 21
    },
    {
     "cell_type": "code",
     "collapsed": false,
     "input": [
      "#Lectura del archivo con informacion de CDS (TGAS+2MASS+SIMBAD+Distancia&Spt[Gagne])\n",
      "filename1='YNMG_8402_CDS+GAGNE.csv_2'\n",
      "distaux = 600\n",
      "YNMG=scipy.genfromtxt(filename1,skip_header=1,delimiter=\",\",dtype='float',filling_values=distaux)\n",
      "YNMG1=scipy.genfromtxt(filename1,skip_header=1,delimiter=\",\",dtype='str',filling_values=distaux)\n",
      "\n",
      "ID=YNMG1[:,0].astype(str)\n",
      "ra=YNMG[:,1].astype(float)\n",
      "dec=YNMG[:,2].astype(float)\n",
      "poblacion=YNMG1[:,3].astype(str)\n",
      "Distancia=YNMG[:,5].astype(float)\n",
      "\n",
      "Dist_Gagne=YNMG[:,34].astype(float)\n",
      "\n",
      "print Distancia\n",
      "print Dist_Gagne"
     ],
     "language": "python",
     "metadata": {},
     "outputs": [
      {
       "output_type": "stream",
       "stream": "stdout",
       "text": [
        "[  49.26132525  600.           33.03309605 ...,  600.          600.          600.        ]\n",
        "[ 600.  600.  600. ...,  600.  600.  600.]\n"
       ]
      }
     ],
     "prompt_number": 44
    },
    {
     "cell_type": "code",
     "collapsed": false,
     "input": [
      "distancia=np.array([])\n",
      "n = len(ra)\n",
      "\n",
      "for i in range(n):\n",
      "    if Dist_Gagne[i] != 600:\n",
      "        DIST=Dist_Gagne[i]\n",
      "        distancia=np.append(distancia,DIST)\n",
      "    elif Distancia[i] != 600:\n",
      "        DIST=Distancia[i]\n",
      "        distancia=np.append(distancia,DIST)\n",
      "    else:\n",
      "        DIST=600\n",
      "        distancia=np.append(distancia,DIST)"
     ],
     "language": "python",
     "metadata": {},
     "outputs": [],
     "prompt_number": 45
    },
    {
     "cell_type": "code",
     "collapsed": false,
     "input": [
      "#Sustituyendo distancias desconocidas por promedios de las poblaciones [parsecs]\n",
      "distancia[(distancia==distaux) & (poblacion=='ABDMG')] = 34.\n",
      "distancia[(distancia==distaux) & (poblacion=='ARG')] = 106.\n",
      "distancia[(distancia==distaux) & (poblacion=='Ambiguous')] = 200.\n",
      "distancia[(distancia==distaux) & (poblacion=='BPMG')] = 35.\n",
      "distancia[(distancia==distaux) & (poblacion=='CAR')] = 85.\n",
      "distancia[(distancia==distaux) & (poblacion=='COL')] = 82.\n",
      "distancia[(distancia==distaux) & (poblacion=='Castor')] = 200.\n",
      "distancia[(distancia==distaux) & (poblacion=='ECh')] = 108.\n",
      "#distancia[(distancia==distaux) & (poblacion=='Field')] = 999.\n",
      "distancia[(distancia==distaux) & (poblacion=='Her-Lyr')] = 20.\n",
      "distancia[(distancia==distaux) & (poblacion=='Hyades')] = 60.\n",
      "#distancia[(distancia==distaux) & (poblacion=='IC2391')] = 999.\n",
      "#distancia[(distancia==distaux) & (poblacion=='LCC')] = 999.\n",
      "distancia[(distancia==distaux) & (poblacion=='Octans')] = 90.\n",
      "#distancia[(distancia==distaux) & (poblacion=='Pleiades')] = 999.\n",
      "#distancia[(distancia==distaux) & (poblacion=='R-Cr')] = 999.\n",
      "distancia[(distancia==distaux) & (poblacion=='THA')] = 48.\n",
      "distancia[(distancia==distaux) & (poblacion=='TWA')] = 55.\n",
      "distancia[(distancia==distaux) & (poblacion=='UMa')] = 60. #2004ARA&A..42..685Z Zuckerman et al. 2014\n",
      "#distancia[(distancia==distaux) & (poblacion=='US')] = 999.\n",
      "distancia[(distancia==distaux) & (poblacion=='Unknown')] = 200.\n",
      "\n",
      "#print distancia[0], Distancia[0], Dist_Gagne[0], poblacion[0]\n",
      "#print distancia[1], Distancia[1], Dist_Gagne[1], poblacion[1]\n",
      "#print distancia[2], Distancia[2], Dist_Gagne[2], poblacion[2]\n",
      "##print distancia[3], Distancia[3], Dist_Gagne[3], poblacion[3]\n",
      "#print distancia[4], Distancia[4], Dist_Gagne[4], poblacion[4]\n",
      "#print distancia[5], Distancia[5], Dist_Gagne[5], poblacion[5]\n",
      "#print distancia[6], Distancia[6], Dist_Gagne[6], poblacion[6]\n",
      "#print distancia[7], Distancia[7], Dist_Gagne[7], poblacion[7]\n",
      "#print distancia[65], Distancia[65], Dist_Gagne[65], poblacion[65]\n",
      "#print distancia[150], Distancia[150], Dist_Gagne[150], poblacion[150]\n",
      "\n"
     ],
     "language": "python",
     "metadata": {},
     "outputs": [],
     "prompt_number": 46
    },
    {
     "cell_type": "code",
     "collapsed": false,
     "input": [
      "RA=list(ra)\n",
      "DEC=list(dec)"
     ],
     "language": "python",
     "metadata": {},
     "outputs": [],
     "prompt_number": 47
    },
    {
     "cell_type": "code",
     "collapsed": false,
     "input": [
      "#Query SFD\n",
      "qresult_sfd = query(RA,DEC,coordsys='equ', mode='sfd')\n",
      "qresult_sfd.keys()"
     ],
     "language": "python",
     "metadata": {},
     "outputs": [
      {
       "metadata": {},
       "output_type": "pyout",
       "prompt_number": 48,
       "text": [
        "[u'EBV_SFD']"
       ]
      }
     ],
     "prompt_number": 48
    },
    {
     "cell_type": "code",
     "collapsed": false,
     "input": [
      "#Query original Green\n",
      "qresult = query(RA,DEC,coordsys='equ',mode='full')\n",
      "#qresult.keys()"
     ],
     "language": "python",
     "metadata": {},
     "outputs": [],
     "prompt_number": 49
    },
    {
     "cell_type": "code",
     "collapsed": false,
     "input": [
      "print qresult.keys()\n",
      "_min=np.array(qresult['min_reliable_distmod'])"
     ],
     "language": "python",
     "metadata": {},
     "outputs": [
      {
       "output_type": "stream",
       "stream": "stdout",
       "text": [
        "[u'max_reliable_distmod', u'min_reliable_distmod', u'samples', u'converged', u'distmod', u'best']\n"
       ]
      }
     ],
     "prompt_number": 50
    },
    {
     "cell_type": "code",
     "collapsed": false,
     "input": [
      "#Convirtiendo el modulo de distancia a parsecs\n",
      "distmod=np.array(qresult['distmod'])\n",
      "#print distmod\n",
      "\n",
      "distance=np.array(10**((distmod+5)*(1./5.)))\n",
      "dist_min=np.array(10**((_min+5)*(1./5.)))\n",
      "\n",
      "convergence=np.array(qresult['converged'])\n",
      "\n",
      "print convergence\n",
      "print len(distance)\n",
      "print len(dist_min)"
     ],
     "language": "python",
     "metadata": {},
     "outputs": [
      {
       "output_type": "stream",
       "stream": "stdout",
       "text": [
        "[ True  True  True ..., False  True  True]\n",
        "31\n",
        "3406\n"
       ]
      }
     ],
     "prompt_number": 51
    },
    {
     "cell_type": "code",
     "collapsed": false,
     "input": [
      "#Extincion de Schlegel, Finkbeiner & Davis (1998) \n",
      "EBV_Sh=np.array(qresult_sfd['EBV_SFD'])\n",
      "\n",
      "#Interporlacion de la extincion (Green) a partir de la distancia\n",
      "n = len(ra)\n",
      "EBV_Gr=np.array([])\n",
      "Flag=np.array([])\n",
      "charflg = Flag.astype(str)\n",
      "\n",
      "for k in range((n)):\n",
      "    ebv_gr=qresult['best'][k][0]\n",
      "    EBV_Gr=np.append(EBV_Gr,ebv_gr)\n",
      "    flag=0\n",
      "    Flag=np.append(Flag,flag)\n",
      "    if distancia[k] > distance[0]:\n",
      "        x= distancia[k]\n",
      "        T=scipy.interpolate.interp1d(distance,qresult['best'][k],kind='linear',fill_value='-999')\n",
      "        y = T(x)\n",
      "        Flag[k] = 1\n",
      "        EBV_Gr[k] = y\n",
      "    A=np.array(qresult['best'][k])\n",
      "    #print A\n",
      "    #print k, len(A), distancia[k]\n",
      "    #print Flag[k], EBV_Gr[k]\n",
      "    Av_A=A*Rv\n",
      "    #plt.figure(figsize =(15,10), dpi=100)\n",
      "    #plt.plot(distance,Av_A,'g-',label='+ID[k]+')\n",
      "    #plt.plot(distance,Av_A,'go')\n",
      "    #plt.axvline(dist_min[k],color='b',label='dist min')\n",
      "    #plt.axvline(distancia[k],color='y',label='dist object')\n",
      "    #plt.axhline(EBV_Sh[k]*Rv, linewidth=2, color='r',label='Schlegel')\n",
      "    #plt.legend()\n",
      "    #plt.axvline(Flag[k],color='k',label='Flag')\n",
      "    #plt.plot(distancia[k],EBV_Gr[k]*Rv,'mo',label='Av(mag)')\n",
      "    #plt.xlabel('Distancia(pc)',size=14)\n",
      "    #plt.ylabel('Av',size=14)\n",
      "    #plt.xlim(-5,500)\n",
      "    #plt.grid(True)\n",
      "    #plt.savefig(ID[k]+'_'+poblacion[k]+'_extincion_green_pc.png')\n",
      "    #plt.title(ID[k]+'_'+poblacion[k]+'_extincion_green_pc.png')\n",
      "    #plt.show()\n",
      "    #plt.close\n",
      "    \n",
      "    #print Flag[k]"
     ],
     "language": "python",
     "metadata": {},
     "outputs": [],
     "prompt_number": 52
    },
    {
     "cell_type": "code",
     "collapsed": false,
     "input": [
      "cabecera,archivo=my_io.read_infile_preserving_formats(filename1,csv=True)\n",
      "\n",
      "cabecera[-1]=cabecera[-1]+',EBV_SFD,EBV_Gr,Flag_IntGr,dist_min_Gr'\n",
      "cabecera[-1]=cabecera[-1][1:]"
     ],
     "language": "python",
     "metadata": {},
     "outputs": [],
     "prompt_number": 53
    },
    {
     "cell_type": "code",
     "collapsed": false,
     "input": [
      "ofilen='YNMG_8402_Ext.csv_2'\n",
      "ofile=open(ofilen,'w')\n",
      "for i in range(len(cabecera)):\n",
      "    ofile.write(cabecera[i]+\"\\n\")\n",
      "for j in range(len(archivo)):\n",
      "    ofile.write(\" %s,%7.5f,%7.5f,%7.5f,%7.5f\\n\" %(archivo[j], EBV_Sh[j],EBV_Gr[j], Flag[j],dist_min[j]))\n",
      "ofile.close()\n",
      "print 'listo'"
     ],
     "language": "python",
     "metadata": {},
     "outputs": [
      {
       "output_type": "stream",
       "stream": "stdout",
       "text": [
        "listo\n"
       ]
      }
     ],
     "prompt_number": 54
    },
    {
     "cell_type": "code",
     "collapsed": false,
     "input": [
      "#plt.figure(figsize =(10,10), dpi=100)\n",
      "#plt.plot(EBV_Sh*3.02,EBV_Gr*3.02,'go')#,label='ID[k]')\n",
      "#plt.grid()\n",
      "#plt.xlim(0,5)\n",
      "#plt.ylim(0,5)"
     ],
     "language": "python",
     "metadata": {},
     "outputs": [],
     "prompt_number": 13
    },
    {
     "cell_type": "code",
     "collapsed": false,
     "input": [],
     "language": "python",
     "metadata": {},
     "outputs": [],
     "prompt_number": 13
    },
    {
     "cell_type": "code",
     "collapsed": false,
     "input": [],
     "language": "python",
     "metadata": {},
     "outputs": [],
     "prompt_number": 13
    }
   ],
   "metadata": {}
  }
 ]
}