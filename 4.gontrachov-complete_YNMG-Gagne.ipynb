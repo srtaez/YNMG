{
 "metadata": {
  "name": "",
  "signature": "sha256:412e7aa09a56b7a4fdfcbca74f9211dc2934f01e3f4d3804aa53a091cff802a7"
 },
 "nbformat": 3,
 "nbformat_minor": 0,
 "worksheets": [
  {
   "cells": [
    {
     "cell_type": "code",
     "collapsed": false,
     "input": [
      "#!/usr/bin/env python\n",
      "import numpy as np\n",
      "import pylab as plt\n",
      "import scipy\n",
      "import scipy.interpolate\n",
      "from scipy.interpolate import LinearNDInterpolator\n",
      "import os\n",
      "import my_io\n",
      "import matplotlib.patches as patches\n",
      "import myutils\n",
      "import bovy_coords as bc\n",
      "\n",
      "\n",
      "filename1='YNMG_8402_preVOSA.csv'\n",
      "filename2='gontcharov_dust_map_2017.txt'\n",
      "extinction=scipy.genfromtxt(filename2,comments='#',dtype='float',filling_values='-0')\n",
      "\n",
      "#Amongst other things, the map presented here allows de reddening E(J-Ks) to be estimated at each point of the space under\n",
      "#consideration through a trilinear interpolation of the values given in the map\n",
      "#Gontcharov 3D Stellar Reddening Map from 2Mass Photometry: An improved version\n",
      "\n",
      "distaux = 200\n",
      "YNMG=scipy.genfromtxt(filename1,skip_header=1,delimiter=\",\",dtype='float',filling_values=distaux)\n",
      "YNMG1=scipy.genfromtxt(filename1,skip_header=1,delimiter=\",\",dtype='str',filling_values=distaux)\n",
      "\n",
      "ID=YNMG1[:,0].astype(str)\n",
      "ra=YNMG[:,1].astype(float)\n",
      "dec=YNMG[:,2].astype(float)\n",
      "poblacion=YNMG1[:,3].astype(str)\n",
      "Distancia=YNMG[:,5].astype(float)\n",
      "Dist_Gagne=YNMG[:,34].astype(float)\n",
      "\n",
      "#Lectura de variables del catalogo que contiene informacion para los miembros de las YNMG\n",
      "Jmag=YNMG[:,9].astype(float)  #Magnitudes 2MASS\n",
      "Hmag=YNMG[:,10].astype(float) \n",
      "Kmag=YNMG[:,11].astype(float)\n",
      "\n",
      "#Construccion de colores observados, a partir de magnitudes 2MASS\n",
      "jmag_hmag=Jmag-Hmag\n",
      "jmag_kmag=Jmag-Kmag\n",
      "print len(ID), len(Distancia), len(Dist_Gagne)"
     ],
     "language": "python",
     "metadata": {},
     "outputs": [
      {
       "output_type": "stream",
       "stream": "stdout",
       "text": [
        "8402 8402 8402\n"
       ]
      }
     ],
     "prompt_number": 51
    },
    {
     "cell_type": "code",
     "collapsed": false,
     "input": [
      "distancia=np.array([])\n",
      "n = len(ra)\n",
      "\n",
      "for i in range(n):\n",
      "    if Dist_Gagne[i] != 200:\n",
      "        DIST=Dist_Gagne[i]\n",
      "        distancia=np.append(distancia,DIST)\n",
      "    elif Distancia[i] != 200:\n",
      "        DIST=Distancia[i]\n",
      "        distancia=np.append(distancia,DIST)\n",
      "    else:\n",
      "        DIST=200\n",
      "        distancia=np.append(distancia,DIST)"
     ],
     "language": "python",
     "metadata": {},
     "outputs": [],
     "prompt_number": 52
    },
    {
     "cell_type": "code",
     "collapsed": false,
     "input": [
      "#Sustituyendo distancias desconocidas por promedios de las poblaciones\n",
      "distancia[(distancia==distaux) & (poblacion=='ABDMG')] = 34. #20pc, 50Myr - Torres (SACY, 2006)\n",
      "distancia[(distancia==distaux) & (poblacion=='ARG')] = 106. #100pc, 30 Myr - Torres (SACY, 2006)\n",
      "distancia[(distancia==distaux) & (poblacion=='Ambiguous')] = 200.\n",
      "distancia[(distancia==distaux) & (poblacion=='BPMG')] = 35. #15Myr - Torres (SACY, 2006)\n",
      "distancia[(distancia==distaux) & (poblacion=='CAR')] = 85.\n",
      "distancia[(distancia==distaux) & (poblacion=='COL')] = 82.\n",
      "distancia[(distancia==distaux) & (poblacion=='Castor')] = 200.\n",
      "distancia[(distancia==distaux) & (poblacion=='ECh')] = 108.\n",
      "#distancia[(distancia==distaux) & (poblacion=='Field')] = 999.\n",
      "distancia[(distancia==distaux) & (poblacion=='Her-Lyr')] = 20.\n",
      "distancia[(distancia==distaux) & (poblacion=='Hyades')] = 60.\n",
      "#distancia[(distancia==distaux) & (poblacion=='IC2391')] = 999.\n",
      "#distancia[(distancia==distaux) & (poblacion=='LCC')] = 999.\n",
      "distancia[(distancia==distaux) & (poblacion=='Octans')] = 90. #(100pc, 30Myr) - Torres (SACY, 2006)\n",
      "#distancia[(distancia==distaux) & (poblacion=='Pleiades')] = 999.\n",
      "#distancia[(distancia==distaux) & (poblacion=='R-Cr')] = 999.\n",
      "distancia[(distancia==distaux) & (poblacion=='THA')] = 48. #TucHor 60pc, 30Myr - Torres(SACY, 2006)\n",
      "distancia[(distancia==distaux) & (poblacion=='TWA')] = 55. #TW Hya (40-60pc, 20Myr)\n",
      "distancia[(distancia==distaux) & (poblacion=='UMa')] = 60. #2004ARA&A..42..685Z Zuckerman et al. 2014\n",
      "#distancia[(distancia==distaux) & (poblacion=='US')] = 999.\n",
      "distancia[(distancia==distaux) & (poblacion=='Unknown')] = 200.\n",
      "\n",
      "#print len (distancia)\n",
      "Rhel=distancia\n",
      "#print len(Rhel)"
     ],
     "language": "python",
     "metadata": {},
     "outputs": [],
     "prompt_number": 53
    },
    {
     "cell_type": "code",
     "collapsed": false,
     "input": [
      "dummy=np.ones_like(ra)\n",
      "\n",
      "#Convert from helio equatorial to helio spherical galactic coordinates\n",
      "ll,bb=bc.radec_to_lb(ra,dec,degree=True).T\n",
      "\n",
      "#Convert from heliocentric spherical galactic to galactocentric cartesian\n",
      "mydat=myutils.helio_obj(ll,bb,Rhel,dummy,dummy,dummy,degree=True,flag_mulstar=True,using_parallax=False) "
     ],
     "language": "python",
     "metadata": {},
     "outputs": [],
     "prompt_number": 54
    },
    {
     "cell_type": "code",
     "collapsed": false,
     "input": [
      "#Interpolation in Gontcharov et al. (2017) extinction map\n",
      "X_grid=extinction[:,0].astype(float)\n",
      "Y_grid=extinction[:,1].astype(float)\n",
      "Z_grid=extinction[:,2].astype(float)\n",
      "Av=extinction[:,6].astype(float)\n",
      "Rv=extinction[:,5].astype(float)\n",
      "EBV=extinction[:,4].astype(float)\n",
      "\n",
      "\n",
      "grid=zip(X_grid,Y_grid,Z_grid)\n",
      "\n",
      "interp_Av = scipy.interpolate.LinearNDInterpolator(grid, Av, fill_value=0)\n",
      "interp_EBV = scipy.interpolate.LinearNDInterpolator(grid, EBV, fill_value=0)\n",
      "interp_Rv = scipy.interpolate.LinearNDInterpolator(grid, Rv, fill_value=0)"
     ],
     "language": "python",
     "metadata": {},
     "outputs": [],
     "prompt_number": 55
    },
    {
     "cell_type": "code",
     "collapsed": false,
     "input": [
      "coords=zip(mydat.xhel,mydat.yhel,mydat.zhel)\n",
      "\n",
      "R=interp_Av(coords) #R es el Av de Gontcharov\n",
      "Q=interp_EBV(coords) #Q es el E(B-V) de Gontcharov\n",
      "S=interp_Rv(coords) #S es la ley de extinci\u00f3n de Gontcharov\n",
      "\n",
      "e_R=0.04"
     ],
     "language": "python",
     "metadata": {},
     "outputs": [],
     "prompt_number": 56
    },
    {
     "cell_type": "code",
     "collapsed": false,
     "input": [
      "print min(S), max(S)\n",
      "print S\n",
      "print R\n",
      "print Q*S"
     ],
     "language": "python",
     "metadata": {},
     "outputs": [
      {
       "output_type": "stream",
       "stream": "stdout",
       "text": [
        "0.0 4.05355602572\n",
        "[ 3.0349019   3.03661907  3.0220606  ...,  3.09842267  3.75911848\n",
        "  3.37991604]\n",
        "[ 0.16069204  0.16011153  0.18602755 ...,  0.29228552  0.30133073\n",
        "  0.38450169]\n",
        "[ 0.16145584  0.16078162  0.18516613 ...,  0.29101352  0.30214987\n",
        "  0.38610825]\n"
       ]
      }
     ],
     "prompt_number": 57
    },
    {
     "cell_type": "code",
     "collapsed": false,
     "input": [
      "#C\u00e1lculo de la Teff a partir de la tabla de Mamajek\n",
      "filename3='referencia_mamajek.txt_number_code'\n",
      "tabla=scipy.genfromtxt(filename3,comments='#',dtype=float)\n",
      "\n",
      "#Lectura de las variables de la tabla de Mamajek\n",
      "SpT=tabla[:,0].astype(float) #Tipo Espectral\n",
      "Teff=tabla[:,2].astype(float) #Temperatura efectiva\n",
      "BCv=tabla[:,3].astype(float) #Correccion bolometrica\n",
      "J_H=tabla[:,13].astype(float) #color J-H\n",
      "H_K=tabla[:,14].astype(float) #color H-Ks\n",
      "J_K=J_H+H_K #Construccion del color J-Ks "
     ],
     "language": "python",
     "metadata": {},
     "outputs": [],
     "prompt_number": 58
    },
    {
     "cell_type": "code",
     "collapsed": false,
     "input": [
      "#Restriccion de la tabla de Mamajek para el color J-H\n",
      "j_h_mask=(J_H!=-99)&(Teff>1700)    #Remueve valores ficticios(-99) y enanas tipo T (azulamiento)\n",
      "#Aplicacion de la mascara\n",
      "JHr=J_H[j_h_mask]\n",
      "teff_jhr=Teff[j_h_mask]\n",
      "BCv_jhr=BCv[j_h_mask]\n",
      "SpT_jhr=SpT[j_h_mask]\n",
      "#Para interpolar es necesario ordenar la variable dependiente respecto al orden de la variable\n",
      "#independiente, orden del color J-H. Esto no soluciona el problema de las multievaluaciones.\n",
      "#Si no se ordena, no se puede interpolar. \n",
      "j_h_sorted=JHr.argsort()\n",
      "j_h_referencia=JHr[j_h_sorted]\n",
      "teff_jh=teff_jhr[j_h_sorted]\n",
      "BCv_jh=BCv_jhr[j_h_sorted]\n",
      "SpT_jh=SpT_jhr[j_h_sorted]"
     ],
     "language": "python",
     "metadata": {},
     "outputs": [],
     "prompt_number": 59
    },
    {
     "cell_type": "code",
     "collapsed": false,
     "input": [
      "#Restriccion de la tabla de Mamajek para el color J-K\n",
      "j_k_mask=(J_K!=-99)&(Teff>1590)   #Remueve valores ficticios y enanas tipo T (azulamiento)\n",
      "#Aplicacion de la mascara\n",
      "JKr=J_K[j_k_mask]\n",
      "teff_jkr=Teff[j_k_mask]\n",
      "BCv_jkr=BCv[j_k_mask]\n",
      "SpT_jkr=SpT[j_k_mask]\n",
      "#Para interpolar es necesario ordenar la variable dependiente respecto al orden de la variable\n",
      "#independiente, orden del color J-K. Esto no soluciona el problema de las multievaluaciones.\n",
      "#Si no se ordena, no se puede interpolar.\n",
      "j_k_sorted=JKr.argsort()\n",
      "j_k_referencia=JKr[j_k_sorted]\n",
      "teff_jk=teff_jkr[j_k_sorted]\n",
      "BCv_jk=BCv_jkr[j_k_sorted]\n",
      "SpT_jk=SpT_jkr[j_k_sorted]"
     ],
     "language": "python",
     "metadata": {},
     "outputs": [],
     "prompt_number": 60
    },
    {
     "cell_type": "code",
     "collapsed": false,
     "input": [
      "#Interpolaciones en la tabla de Mamajek, a partir de \"alg\u00fan\" J-H intrinseco se obtiene SpT, Teff, BCv\n",
      "f_jh_teff=scipy.interpolate.interp1d(j_h_referencia,teff_jh,kind='linear',bounds_error=False,fill_value='NaN')\n",
      "f_jh_bcv=scipy.interpolate.interp1d(j_h_referencia,BCv_jh,kind='linear',bounds_error=False,fill_value='NaN')\n",
      "f_jh_spt=scipy.interpolate.interp1d(j_h_referencia,SpT_jh,kind='linear',bounds_error=False,fill_value='NaN')\n",
      "\n",
      "#Interpolaciones en la tabla de Mamajek, a partir de J-K intrinseco se obtiene SpT, Teff, BCv\n",
      "f_jk_teff=scipy.interpolate.interp1d(j_k_referencia,teff_jk,kind='linear',bounds_error=False,fill_value='NaN')\n",
      "f_jk_bcv=scipy.interpolate.interp1d(j_k_referencia,BCv_jk,kind='linear',bounds_error=False,fill_value='NaN')\n",
      "f_jk_spt=scipy.interpolate.interp1d(j_k_referencia,SpT_jk,kind='linear',bounds_error=False,fill_value='NaN')"
     ],
     "language": "python",
     "metadata": {},
     "outputs": [],
     "prompt_number": 61
    },
    {
     "cell_type": "code",
     "collapsed": false,
     "input": [
      "###Gontrachov###\n",
      "#Para toda la muestra, que tiene un Av definido en las tablas de Gontrachov\n",
      "j_h_int_Gontcharov=jmag_hmag-0.107*R\n",
      "j_k_int_Gontcharov=jmag_kmag-0.17*R\n",
      "\n",
      "#Evaluacion de interpolaciones en J-H intrinseco de Gontrachov\n",
      "teff_j_h_Gontcharov=f_jh_teff(j_h_int_Gontcharov)\n",
      "BCv_j_h_Gontcharov=f_jh_bcv(j_h_int_Gontcharov)\n",
      "spt_j_h_Gontcharov=f_jh_spt(j_h_int_Gontcharov)\n",
      "\n",
      "#Evaluacion de interpolaciones en J-K intrinseco de Gontrachov\n",
      "teff_j_k_Gontcharov=f_jk_teff(j_k_int_Gontcharov)\n",
      "BCv_j_k_Gontcharov=f_jk_bcv(j_k_int_Gontcharov)\n",
      "spt_j_k_Gontcharov=f_jk_spt(j_k_int_Gontcharov)"
     ],
     "language": "python",
     "metadata": {},
     "outputs": [],
     "prompt_number": 62
    },
    {
     "cell_type": "code",
     "collapsed": false,
     "input": [
      "x=(0.54,0.54,0.65,0.65)\n",
      "x2=(0.8,0.8,0.85,0.85)\n",
      "y=(0,35000,35000,0)\n",
      "\n",
      "f = plt.figure(1,figsize=(10,10))\n",
      "plt.subplots_adjust(hspace=0.0001)\n",
      "\n",
      "ax0=plt.subplot(311)\n",
      "ax0.fill(x, y, 'y', alpha=0.3)\n",
      "ax0.fill(x2, y, 'b', alpha=0.3)\n",
      "ax0.plot(j_h_int_Gontcharov,teff_j_h_Gontcharov,'yo',label='J-H',alpha=0.9)\n",
      "ax0.plot(j_k_int_Gontcharov,teff_j_k_Gontcharov,'b+',label='J-K',alpha=0.9)\n",
      "ax0.fill(j_h_int_Gontcharov[397],'k*')\n",
      "plt.setp(ax0.get_xticklabels(), visible=False)\n",
      "ax0.set_ylim(0,35000)\n",
      "ax0.legend()\n",
      "ax0.grid(True)\n",
      "ax0.set_ylabel('Temperatura K')\n",
      "\n",
      "ax1=plt.subplot(312, sharex=ax0)\n",
      "ax1.fill(x, y, 'y', alpha=0.3)\n",
      "ax1.fill(x2, y, 'b', alpha=0.3)\n",
      "ax1.plot(j_h_int_Gontcharov,BCv_j_h_Gontcharov,'yo',label='J-H',alpha=0.99)\n",
      "ax1.plot(j_k_int_Gontcharov,BCv_j_k_Gontcharov,'b+',label='J-K',alpha=0.99)\n",
      "plt.setp(ax1.get_xticklabels(), visible=False)\n",
      "plt.yticks([3.2,3.4,3.6,3.8,4.0,4.2,4.4,4.6])\n",
      "ax1.grid()\n",
      "ax1.set_xlim(-0.5,2)\n",
      "ax1.set_ylim(3,4.7)\n",
      "ax1.set_xlabel('Color')\n",
      "ax1.set_ylabel('BCv')\n",
      "\n",
      "ax2=plt.subplot(313, sharex=ax0)\n",
      "ax2.fill(x, y, 'y', alpha=0.3)\n",
      "ax2.fill(x2, y, 'b', alpha=0.3)\n",
      "ax2.plot(j_h_int_Gontcharov,spt_j_h_Gontcharov,'yo',label='J-H',alpha=0.8)\n",
      "ax2.plot(j_k_int_Gontcharov,spt_j_k_Gontcharov,'b+',label='J-K',alpha=0.8)\n",
      "ax2.grid()\n",
      "#plt.yticks([0,10,A 20,F 30,G 40,K 50,M 60, L 70, T 80])\n",
      "ax2.set_xlim(-0.5,2.01)\n",
      "ax2.set_ylim(0,80)\n",
      "ax2.set_xlabel('Color')\n",
      "ax2.set_ylabel('Spectral type 0-100')"
     ],
     "language": "python",
     "metadata": {},
     "outputs": [
      {
       "metadata": {},
       "output_type": "pyout",
       "prompt_number": 63,
       "text": [
        "<matplotlib.text.Text at 0x11ef82150>"
       ]
      },
      {
       "metadata": {},
       "output_type": "display_data",
       "png": "[encoded data removed]",
       "text": [
        "<matplotlib.figure.Figure at 0x1079c2d50>"
       ]
      }
     ],
     "prompt_number": 63
    },
    {
     "cell_type": "code",
     "collapsed": false,
     "input": [
      "#Para definir teff, BCv y SpT a partir de Gontcharov evitando las multievaluaciones *dividir la muestra*\n",
      "teff_int_Gontcharov=np.array([])\n",
      "BCv_int_Gontcharov=np.array([])\n",
      "spt_int_Gontcharov=np.array([])\n",
      "\n",
      "n = len(distancia)\n",
      "\n",
      "for i in range(n):\n",
      "    if (j_k_int_Gontcharov[i] >= 0.8) and (j_k_int_Gontcharov[i] <= 0.85):\n",
      "        #print i,' j_h', j_k_int_Gontrachov[i]\n",
      "        teff_INT_Gontcharov=teff_j_h_Gontcharov[i]\n",
      "        teff_int_Gontcharov=np.append(teff_int_Gontcharov,teff_INT_Gontcharov)\n",
      "        BCv_INT_Gontcharov=BCv_j_h_Gontcharov[i]\n",
      "        BCv_int_Gontcharov=np.append(BCv_int_Gontcharov,BCv_INT_Gontcharov)\n",
      "        spt_INT_Gontcharov=spt_j_h_Gontcharov[i]\n",
      "        spt_int_Gontcharov=np.append(spt_int_Gontcharov,spt_INT_Gontcharov)\n",
      "    else:\n",
      "        #print i,' j-k', j_k_int_Gontrachov[i]\n",
      "        teff_INT_Gontcharov=teff_j_k_Gontcharov[i]\n",
      "        teff_int_Gontcharov=np.append(teff_int_Gontcharov,teff_INT_Gontcharov)\n",
      "        BCv_INT_Gontcharov=BCv_j_k_Gontcharov[i]\n",
      "        BCv_int_Gontcharov=np.append(BCv_int_Gontcharov,BCv_INT_Gontcharov)\n",
      "        spt_INT_Gontcharov=spt_j_k_Gontcharov[i]\n",
      "        spt_int_Gontcharov=np.append(spt_int_Gontcharov,spt_INT_Gontcharov)\n",
      "\n",
      "print j_k_int_Gontcharov\n",
      "print mydat.zhel[i]"
     ],
     "language": "python",
     "metadata": {},
     "outputs": [
      {
       "output_type": "stream",
       "stream": "stdout",
       "text": [
        "[ 0.25268235  0.62978104  0.76737532 ...,  0.71631146  0.73677378\n",
        "  0.75163471]\n",
        "62.6565549019\n"
       ]
      }
     ],
     "prompt_number": 64
    },
    {
     "cell_type": "code",
     "collapsed": false,
     "input": [
      "#Programa para generar archivo de salida\n",
      "cabecera,archivo=my_io.read_infile_preserving_formats(filename1,csv=True)\n",
      "\n",
      "cabecera[-1]=cabecera[-1]+',Av_Gontcharov,Rv_Gontcharov,EBV_Gontcharov,X_pc,Y_pc,Z_pc,j_h_int_Gontcharov,j_k_int_Gontcharov,Teff,BCv,SpT_Av,Distancia_pc,SPT'\n",
      "#cabecera[-1]=cabecera[-1][1:]\n",
      "print cabecera[-1]"
     ],
     "language": "python",
     "metadata": {},
     "outputs": [
      {
       "output_type": "stream",
       "stream": "stdout",
       "text": [
        "#ID_in,RA_in,DEC_in,YNMG,id_cds,rest,b_rest_cds,B_rest_cdsa,2MASS,Jmag,Hmag,Kmag,e_Jmag,e_Hmag,e_Kmag,Qfl,radvel,B_1,V,R_cds,J,H,K,u,g,r_cdsa,i,z,angDist,sp_type,spt_code,l,b,SpT_Gagne,Dist_Gagne,eDist_Gagne,Spt_code_Gagne,EBV_SFD,EBV_Gr,Flag_IntGr,dist_min_Gr,E_J_H, Av_SpT_JH, E_J_K, Av_SpT_JK, E_H_K, Av_SpT_HK, e_jh_mag, e_jk_mag, e_hk_mag, teff_SIMBAD, BCv_SIMBAD, j_h_int_SIMBAD, j_k_int_SIMBAD, h_k_int_SIMBAD, j_h_int_SIMBAD_sigma_plus, j_h_int_SIMBAD_sigma_minus, j_k_int_SIMBAD_sigma_plus, j_k_int_SIMBAD_sigma_minus, h_k_int_SIMBAD_sigma_plus, h_k_int_SIMBAD_sigma_minus,  e_E_JH_SpT_JH_plus, e_E_JH_SpT_JH_minus, e_E_JK_SpT_JK_plus, e_E_JK_SpT_JK_minus, e_E_HK_SpT_HK_plus, e_E_HK_SpT_HK_minus, e_Av_JH_plus, e_Av_JH_minus, e_Av_JK_plus, e_Av_JK_minus, e_Av_HK_plus, e_Av_HK_minus, delta_teff,Av_Gontcharov,Rv_Gontcharov,EBV_Gontcharov,X_pc,Y_pc,Z_pc,j_h_int_Gontcharov,j_k_int_Gontcharov,Teff,BCv,SpT_Av,Distancia_pc,SPT\n"
       ]
      }
     ],
     "prompt_number": 66
    },
    {
     "cell_type": "code",
     "collapsed": false,
     "input": [
      "ofilen='YNMG_8402_Av_gontcharov.csv'\n",
      "ofile=open(ofilen,'w')\n",
      "for i in range(len(cabecera)):\n",
      "    ofile.write(cabecera[i]+\"\\n\")\n",
      "for j in range(len(archivo)):\n",
      "    ofile.write(\"%s,%7.5f,%7.5f,%7.5f,%7.5f,%7.5f,%7.5f,%7.5f,%7.5f,%7.0f,%7.5f,%7.5f,%7.5f,%7.5f\\n\" %(archivo[j],R[j],S[j],Q[j],mydat.xhel[j],mydat.yhel[j],mydat.zhel[j],j_h_int_Gontcharov[j],j_k_int_Gontcharov[j],teff_int_Gontcharov[j],BCv_int_Gontcharov[j],spt_int_Gontcharov[j],distancia[j],SPT[j]))\n",
      "ofile.close()\n",
      "print 'listo'"
     ],
     "language": "python",
     "metadata": {},
     "outputs": [
      {
       "output_type": "stream",
       "stream": "stdout",
       "text": [
        "listo\n"
       ]
      }
     ],
     "prompt_number": 67
    },
    {
     "cell_type": "code",
     "collapsed": false,
     "input": [],
     "language": "python",
     "metadata": {},
     "outputs": []
    },
    {
     "cell_type": "code",
     "collapsed": false,
     "input": [],
     "language": "python",
     "metadata": {},
     "outputs": []
    },
    {
     "cell_type": "code",
     "collapsed": false,
     "input": [],
     "language": "python",
     "metadata": {},
     "outputs": []
    },
    {
     "cell_type": "code",
     "collapsed": false,
     "input": [],
     "language": "python",
     "metadata": {},
     "outputs": []
    }
   ],
   "metadata": {}
  }
 ]
}